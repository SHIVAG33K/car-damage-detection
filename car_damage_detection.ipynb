{
 "cells": [
  {
   "cell_type": "code",
   "execution_count": 3,
   "metadata": {},
   "outputs": [],
   "source": [
    "import os\n",
    "from PIL import Image\n",
    "import torch\n",
    "from torchvision.transforms.functional import to_tensor\n",
    "import json\n",
    "import numpy as np\n",
    "from nltk.tokenize import word_tokenize\n",
    "# Define the directories for your data\n",
    "# add your own path here\n",
    "train_dir = r'C:\\Users\\sruja\\Downloads\\CarDD_release\\CarDD_release\\CarDD_COCO\\train2017'\n",
    "val_dir = r'C:\\Users\\sruja\\Downloads\\CarDD_release\\CarDD_release\\CarDD_COCO\\val2017'\n",
    "test_dir = r'C:\\Users\\sruja\\Downloads\\CarDD_release\\CarDD_release\\CarDD_COCO\\test2017'\n",
    "\n",
    "# Function to load images from a directory\n",
    "def load_images_from_directory(dir_path):\n",
    "    images = []\n",
    "  \n",
    "    for filename in os.listdir(dir_path):\n",
    "    \n",
    "        if filename.endswith('.jpg') or filename.endswith('.png'):\n",
    "  \n",
    "            with Image.open(os.path.join(dir_path, filename)) as img:\n",
    "          \n",
    "                img = img.convert('RGB')\n",
    "                images.append(img)\n",
    "    return images\n",
    "\n",
    "# Load the images\n",
    "train_images = load_images_from_directory(train_dir)\n",
    "val_images = load_images_from_directory(val_dir)\n",
    "test_images = load_images_from_directory(test_dir)\n"
   ]
  },
  {
   "cell_type": "code",
   "execution_count": 6,
   "metadata": {},
   "outputs": [],
   "source": [
    "desired_width = 224\n",
    "desired_height = 224\n",
    "\n",
    "def preprocess_images(images):\n",
    "    processed_images = []\n",
    "    for img in images:\n",
    "        if not isinstance(img, Image.Image):\n",
    "            img = Image.fromarray(img)\n",
    " \n",
    "        img = img.resize((desired_width, desired_height))\n",
    "      \n",
    "        img = np.array(img) / 255.0\n",
    "        processed_images.append(img)\n",
    "\n",
    "    images = np.array(processed_images)\n",
    "    return images\n"
   ]
  },
  {
   "cell_type": "code",
   "execution_count": 7,
   "metadata": {},
   "outputs": [],
   "source": [
    "\n",
    "with open(r'C:\\Users\\sruja\\Downloads\\CarDD_release\\CarDD_release\\CarDD_COCO\\annotations\\instances_train2017.json') as f:\n",
    "    data = json.load(f)\n",
    "\n",
    "train_images_info = [{ 'id': item['id'], 'width': item['width'], 'height': item['height'], 'file_name': item['file_name'] } for item in data['images']]"
   ]
  },
  {
   "cell_type": "code",
   "execution_count": 8,
   "metadata": {},
   "outputs": [],
   "source": [
    "\n",
    "with open(r'C:\\Users\\sruja\\Downloads\\CarDD_release\\CarDD_release\\CarDD_COCO\\annotations\\instances_train2017.json') as f:\n",
    "    data = json.load(f)\n",
    "\n",
    "id_to_name = {item['id']: item['name'] for item in data['categories']}\n",
    "\n",
    "train_texts = [id_to_name[item['id']] for item in train_images_info if item['id'] in id_to_name]"
   ]
  },
  {
   "cell_type": "code",
   "execution_count": 9,
   "metadata": {},
   "outputs": [],
   "source": [
    "with open(r'C:\\Users\\sruja\\Downloads\\CarDD_release\\CarDD_release\\CarDD_COCO\\annotations\\instances_test2017.json') as f:\n",
    "    data = json.load(f)\n",
    "\n",
    "test_images_info = [{ 'id': item['id'], 'width': item['width'], 'height': item['height'], 'file_name': item['file_name'] } for item in data['images']]"
   ]
  },
  {
   "cell_type": "code",
   "execution_count": 10,
   "metadata": {},
   "outputs": [],
   "source": [
    "\n",
    "with open(r\"C:\\Users\\sruja\\Downloads\\CarDD_release\\CarDD_release\\CarDD_COCO\\annotations\\instances_test2017.json\") as f:\n",
    "    data = json.load(f)\n",
    "\n",
    "\n",
    "id_to_name = {item['id']: item['name'] for item in data['categories']}\n",
    "\n",
    "\n",
    "test_texts = [id_to_name[item['id']] for item in train_images_info if item['id'] in id_to_name]"
   ]
  },
  {
   "cell_type": "code",
   "execution_count": 11,
   "metadata": {},
   "outputs": [],
   "source": [
    "with open(r\"C:\\Users\\sruja\\Downloads\\CarDD_release\\CarDD_release\\CarDD_COCO\\annotations\\instances_val2017.json\") as f:\n",
    "    data = json.load(f)\n",
    "\n",
    "\n",
    "val_images_info = [{ 'id': item['id'], 'width': item['width'], 'height': item['height'], 'file_name': item['file_name'] } for item in data['images']]"
   ]
  },
  {
   "cell_type": "code",
   "execution_count": 12,
   "metadata": {},
   "outputs": [],
   "source": [
    "\n",
    "with open(r\"C:\\Users\\sruja\\Downloads\\CarDD_release\\CarDD_release\\CarDD_COCO\\annotations\\instances_val2017.json\") as f:\n",
    "    data = json.load(f)\n",
    "\n",
    "id_to_name = {item['id']: item['name'] for item in data['categories']}\n",
    "\n",
    "\n",
    "val_texts = [id_to_name[item['id']] for item in train_images_info if item['id'] in id_to_name]"
   ]
  },
  {
   "cell_type": "code",
   "execution_count": 13,
   "metadata": {},
   "outputs": [
    {
     "name": "stderr",
     "output_type": "stream",
     "text": [
      "[nltk_data] Downloading package punkt to\n",
      "[nltk_data]     C:\\Users\\sruja\\AppData\\Roaming\\nltk_data...\n",
      "[nltk_data]   Package punkt is already up-to-date!\n"
     ]
    },
    {
     "data": {
      "text/plain": [
       "True"
      ]
     },
     "execution_count": 13,
     "metadata": {},
     "output_type": "execute_result"
    }
   ],
   "source": [
    "import nltk\n",
    "nltk.download('punkt')"
   ]
  },
  {
   "cell_type": "code",
   "execution_count": 14,
   "metadata": {},
   "outputs": [],
   "source": [
    "def preprocess_text(texts):\n",
    "\n",
    "    tokenized_texts = [word_tokenize(text) for text in texts]\n",
    "    return tokenized_texts\n",
    "\n",
    "train_texts = preprocess_text(train_texts)\n",
    "val_texts = preprocess_text(val_texts)\n",
    "test_texts = preprocess_text(test_texts)"
   ]
  },
  {
   "cell_type": "code",
   "execution_count": null,
   "metadata": {},
   "outputs": [],
   "source": [
    "\n",
    "\n",
    "train_images_tensor = torch.stack([to_tensor(img) for img in train_images])\n",
    "train_texts_tensor = torch.tensor(train_texts)\n",
    "val_images_tensor = torch.stack([to_tensor(img) for img in val_images])\n",
    "val_texts_tensor = torch.tensor(val_texts)\n"
   ]
  },
  {
   "cell_type": "code",
   "execution_count": null,
   "metadata": {},
   "outputs": [],
   "source": [
    "import torch.optim as optim\n",
    "from tqdm import tqdm\n",
    "import clip\n",
    "# Load the pre-trained CLIP model\n",
    "model, preprocess = clip.load(\"ViT-B/32\", device=\"cuda\")\n",
    "\n",
    "\n",
    "criterion = torch.nn.CrossEntropyLoss()\n",
    "optimizer = optim.Adam(model.parameters(), lr=0.001)\n",
    "\n",
    "# Training loop\n",
    "num_epochs = 10  \n",
    "\n",
    "for epoch in range(num_epochs):\n",
    "\n",
    "    for images, texts in tqdm(train_loader):\n",
    "    \n",
    "        images = images.to(\"cuda\")\n",
    "        texts = texts.to(\"cuda\")\n",
    "\n",
    "\n",
    "        optimizer.zero_grad()\n",
    "\n",
    "\n",
    "        outputs = model(images, texts)\n",
    "        loss = criterion(outputs, texts)\n",
    "\n",
    "   \n",
    "        loss.backward()\n",
    "        optimizer.step()\n",
    "\n",
    "\n"
   ]
  },
  {
   "cell_type": "code",
   "execution_count": null,
   "metadata": {},
   "outputs": [],
   "source": [
    "\n",
    "def evaluate(model, test_loader):\n",
    "    model.eval()  \n",
    "    total_loss = 0\n",
    "    correct_predictions = 0\n",
    "\n",
    "    with torch.no_grad():  \n",
    "        for images, texts in test_loader:\n",
    "           \n",
    "            images = images.to(\"cuda\")\n",
    "            texts = texts.to(\"cuda\")\n",
    "\n",
    "            outputs = model(images)\n",
    "            loss = criterion(outputs, texts)\n",
    "            total_loss += loss.item()\n",
    "\n",
    "            \n",
    "            _, predicted = torch.max(outputs.data, 1)\n",
    "            correct_predictions += (predicted == texts).sum().item()\n",
    "\n",
    "    # Calculate the average loss and accuracy\n",
    "    avg_loss = total_loss / len(test_loader.dataset)\n",
    "    accuracy = correct_predictions / len(test_loader.dataset)\n",
    "\n",
    "    return avg_loss, accuracy\n",
    "\n",
    "# Evaluate the model\n",
    "test_loss, test_accuracy = evaluate(model, test_loader)\n",
    "print(f\"Test Loss: {test_loss:.4f}, Test Accuracy: {test_accuracy:.4f}\")\n"
   ]
  },
  {
   "cell_type": "code",
   "execution_count": null,
   "metadata": {},
   "outputs": [],
   "source": [
    "# Save the model\n",
    "torch.save(model.state_dict(), '/kaggle/input/car-damage/model.pth')\n"
   ]
  },
  {
   "cell_type": "code",
   "execution_count": null,
   "metadata": {},
   "outputs": [],
   "source": [
    "def convert_prediction_to_text(prediction):\n",
    "    prediction = prediction.cpu().numpy()\n",
    "    text = id_to_name[np.argmax(prediction)]\n",
    "    return text\n",
    "# Assume `new_image` is your new input image\n",
    "new_image = Image.open(\"/kaggle/input/car-damage/CarDD_release/CarDD_COCO/test2017/000000000139.jpg\")\n",
    "new_image = preprocess_images(new_image)  # Don't forget to preprocess your new data\n",
    "new_image_tensor = torch.tensor(new_image).to(\"cuda\")  # Move your data to GPU\n",
    "\n",
    "with torch.no_grad():  # No need to track gradients when making predictions\n",
    "    prediction = model(new_image_tensor)\n",
    "\n",
    "# Convert the prediction to text\n",
    "report = convert_prediction_to_text(prediction)\n",
    "print(report)\n"
   ]
  }
 ],
 "metadata": {
  "kaggle": {
   "accelerator": "none",
   "dataSources": [
    {
     "datasetId": 5153269,
     "sourceId": 8611193,
     "sourceType": "datasetVersion"
    }
   ],
   "dockerImageVersionId": 30732,
   "isGpuEnabled": false,
   "isInternetEnabled": false,
   "language": "python",
   "sourceType": "notebook"
  },
  "kernelspec": {
   "display_name": "Python 3 (ipykernel)",
   "language": "python",
   "name": "python3"
  },
  "language_info": {
   "codemirror_mode": {
    "name": "ipython",
    "version": 3
   },
   "file_extension": ".py",
   "mimetype": "text/x-python",
   "name": "python",
   "nbconvert_exporter": "python",
   "pygments_lexer": "ipython3",
   "version": "3.12.0"
  }
 },
 "nbformat": 4,
 "nbformat_minor": 4
}
